{
 "cells": [
  {
   "cell_type": "code",
   "execution_count": 1,
   "metadata": {},
   "outputs": [
    {
     "name": "stdout",
     "output_type": "stream",
     "text": [
      "env: HCA_ANALYTICS_REPORTING_CLIENT_SECRET_PATH=../../do_not_commit_ga4_credentials.json\n"
     ]
    }
   ],
   "source": [
    "%env HCA_ANALYTICS_REPORTING_CLIENT_SECRET_PATH=../../do_not_commit_ga4_credentials.json"
   ]
  },
  {
   "cell_type": "code",
   "execution_count": 2,
   "metadata": {},
   "outputs": [],
   "source": [
    "import analytics.api as ga\n",
    "import analytics.sheets_api as sheets\n",
    "import analytics.sheets_elements as elements\n",
    "import pandas as pd\n",
    "import gspread\n",
    "from constants import *"
   ]
  },
  {
   "cell_type": "code",
   "execution_count": 3,
   "metadata": {},
   "outputs": [
    {
     "name": "stdout",
     "output_type": "stream",
     "text": [
      "Please visit this URL to authorize this application: https://accounts.google.com/o/oauth2/auth?response_type=code&client_id=274560362763-p5netdrssq6r02lcfan6s157m6d65rqe.apps.googleusercontent.com&redirect_uri=http%3A%2F%2Flocalhost%3A8082%2F&scope=https%3A%2F%2Fwww.googleapis.com%2Fauth%2Fspreadsheets+https%3A%2F%2Fwww.googleapis.com%2Fauth%2Fanalytics.readonly+https%3A%2F%2Fwww.googleapis.com%2Fauth%2Fdrive&state=S939XE4HSQY9zVyap3fxpYE1Mr6R4D&access_type=offline\n"
     ]
    }
   ],
   "source": [
    "ga_authentication, drive_authentication, sheets_authentication = ga.authenticate(\n",
    "    SECRET_NAME,\n",
    "    ga.ga4_service_params,\n",
    "    ga.drive_service_params,\n",
    "    ga.sheets_service_params,\n",
    "    port=OAUTH_PORT\n",
    ")\n",
    "\n",
    "REPORT_DATES = elements.get_bounds_for_month_and_prev(CURRENT_MONTH)\n",
    "START_DATE_CURRENT = REPORT_DATES[\"start_current\"]\n",
    "END_DATE_CURRENT = REPORT_DATES[\"end_current\"]\n",
    "START_DATE_PRIOR = REPORT_DATES[\"start_previous\"]\n",
    "END_DATE_PRIOR = REPORT_DATES[\"end_previous\"]\n",
    "\n",
    "date_string = f\"{START_DATE_CURRENT} - {END_DATE_CURRENT}\"\n",
    "\n",
    "default_params = {\n",
    "    \"service_system\": ga_authentication,\n",
    "    \"start_date\": START_DATE_CURRENT,\n",
    "    \"end_date\": END_DATE_CURRENT,\n",
    "    \"property\": HCA_PORTAL_ID,\n",
    "}\n",
    "\n",
    "hca_portal_params = {\n",
    "    **default_params,\n",
    "    \"base_dimension_filter\": HCA_PORTAL_ONLY_FILTER,\n",
    "}\n",
    "\n",
    "hca_combined_all_time_params = {\n",
    "    **default_params,\n",
    "    \"start_date\": GA4_START,\n",
    "}\n",
    "\n",
    "hca_portal_all_time_params = {\n",
    "    **default_params,\n",
    "    \"start_date\": GA4_START_SEPARATE,\n",
    "    \"base_dimension_filter\": HCA_PORTAL_ONLY_FILTER,\n",
    "\n",
    "}\n",
    "\n",
    "hca_explorer_all_time_params = {\n",
    "    **default_params,\n",
    "    \"start_date\": GA4_START_SEPARATE,\n",
    "    \"base_dimension_filter\": HCA_EXPLORER_ONLY_FILTER,\n",
    "}"
   ]
  },
  {
   "cell_type": "code",
   "execution_count": 4,
   "metadata": {},
   "outputs": [],
   "source": [
    "df_monthly_summary_portal = elements.get_page_views_over_time_df(hca_portal_all_time_params)\n",
    "df_monthly_summary_explorer = elements.get_page_views_over_time_df(hca_explorer_all_time_params)\n",
    "df_monthly_summary_combined = elements.get_page_views_over_time_df(hca_combined_all_time_params, additional_data_path=HISTORIC_UA_DATA_PATH, additional_data_behavior=elements.ADDITIONAL_DATA_BEHAVIOR.ADD)\n",
    "df_outbound = elements.get_outbound_links_change(hca_portal_params, START_DATE_CURRENT, END_DATE_CURRENT, START_DATE_PRIOR, END_DATE_PRIOR)\n",
    "df_pageviews = elements.get_page_views_change(hca_portal_params, START_DATE_CURRENT, END_DATE_CURRENT, START_DATE_PRIOR, END_DATE_PRIOR)"
   ]
  },
  {
   "cell_type": "code",
   "execution_count": 5,
   "metadata": {},
   "outputs": [],
   "source": [
    "dict_spreadsheet = {\n",
    "    \"Combined Summary\": df_monthly_summary_combined,\n",
    "    \"Portal Summary\": df_monthly_summary_portal,\n",
    "    \"Explorer Summary\": df_monthly_summary_explorer,\n",
    "    \"Page Views (Portal)\": df_pageviews,\n",
    "    \"Outbound Links (Portal)\": df_outbound,\n",
    "}\n",
    "\n",
    "summary_worksheet_formatting = {\n",
    "    \"extra_columns\": 1,\n",
    "    \"extra_columns_width\": 2000,\n",
    "}\n",
    "\n",
    "sheet = sheets.create_sheet_in_folder(\n",
    "    drive_authentication,\n",
    "    SHEET_NAME,\n",
    "    PARENT_FOLDER_NAME,\n",
    "    override_behavior=sheets.FILE_OVERRIDE_BEHAVIORS.OVERRIDE_IF_IN_SAME_PLACE\n",
    ")\n",
    "\n",
    "sheets.fill_spreadsheet_with_df_dict(\n",
    "    sheet,\n",
    "    dict_spreadsheet,\n",
    "    sheets.FILE_OVERRIDE_BEHAVIORS.OVERRIDE_IF_IN_SAME_PLACE,\n",
    "    column_formatting_options={\n",
    "        \"Combined Summary\": elements.PAGE_VIEWS_OVER_TIME_FORMATTING,\n",
    "        \"Portal Summary\": elements.PAGE_VIEWS_OVER_TIME_FORMATTING,\n",
    "        \"Explorer Summary\": elements.PAGE_VIEWS_OVER_TIME_FORMATTING,\n",
    "        \"Page Views (Portal)\": elements.PAGE_VIEWS_CHANGE_FORMATTING,\n",
    "        \"Outbound Links (Portal)\": elements.OUTBOUND_LINKS_CHANGE_FORMATTING\n",
    "    },\n",
    "    sheet_formatting_options={\n",
    "        \"Portal Summary\": summary_worksheet_formatting,\n",
    "        \"Explorer Summary\": summary_worksheet_formatting,\n",
    "        \"Combined Summary\": summary_worksheet_formatting\n",
    "    }\n",
    ")\n",
    "for df, worksheet_name in zip(\n",
    "    (df_monthly_summary_portal, df_monthly_summary_explorer, df_monthly_summary_combined), \n",
    "    (\"Portal Summary\", \"Explorer Summary\", \"Combined Summary\")\n",
    "):\n",
    "    worksheet = sheet.worksheet(worksheet_name)\n",
    "    date_range = sheets.WorksheetRange(\n",
    "        worksheet, \n",
    "        gspread.cell.Cell(1, 1), \n",
    "        gspread.cell.Cell(df.index.size + 1, 2)\n",
    "    )\n",
    "    users_range = sheets.WorksheetRange(\n",
    "        worksheet, \n",
    "        gspread.cell.Cell(1, 2), \n",
    "        gspread.cell.Cell(df.index.size + 1, 3)\n",
    "    )\n",
    "    pageviews_range = sheets.WorksheetRange(\n",
    "        worksheet, \n",
    "        gspread.cell.Cell(1, 3), \n",
    "        gspread.cell.Cell(df.index.size + 1, 4)\n",
    "    )\n",
    "    sheets.add_chart_to_sheet(\n",
    "        sheets_authentication,\n",
    "        sheet,\n",
    "        worksheet,\n",
    "        sheets.CHART_TYPES.LINE,\n",
    "        date_range,\n",
    "        [users_range, pageviews_range],\n",
    "        chart_position=gspread.cell.Cell(1, 6),\n",
    "        chart_position_offset_x=75,\n",
    "        chart_position_offset_y=25,\n",
    "        title=\"Pageviews and Users Over Time\"\n",
    "    )"
   ]
  },
  {
   "cell_type": "code",
   "execution_count": null,
   "metadata": {},
   "outputs": [],
   "source": []
  }
 ],
 "metadata": {
  "kernelspec": {
   "display_name": "hca-portal-sheets",
   "language": "python",
   "name": "hca-portal-sheets"
  },
  "language_info": {
   "codemirror_mode": {
    "name": "ipython",
    "version": 3
   },
   "file_extension": ".py",
   "mimetype": "text/x-python",
   "name": "python",
   "nbconvert_exporter": "python",
   "pygments_lexer": "ipython3",
   "version": "3.12.4"
  }
 },
 "nbformat": 4,
 "nbformat_minor": 4
}
